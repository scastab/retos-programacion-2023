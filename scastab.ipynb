{
  "nbformat": 4,
  "nbformat_minor": 0,
  "metadata": {
    "colab": {
      "provenance": [],
      "authorship_tag": "ABX9TyM14p75pa2Mllak6R6y9vux",
      "include_colab_link": true
    },
    "kernelspec": {
      "name": "python3",
      "display_name": "Python 3"
    },
    "language_info": {
      "name": "python"
    }
  },
  "cells": [
    {
      "cell_type": "markdown",
      "metadata": {
        "id": "view-in-github",
        "colab_type": "text"
      },
      "source": [
        "<a href=\"https://colab.research.google.com/github/scastab/retos-programacion-2023/blob/main/scastab.ipynb\" target=\"_parent\"><img src=\"https://colab.research.google.com/assets/colab-badge.svg\" alt=\"Open In Colab\"/></a>"
      ]
    },
    {
      "cell_type": "code",
      "execution_count": null,
      "metadata": {
        "id": "hf3dxDxOCmDu"
      },
      "outputs": [],
      "source": [
        "a = int(input('Introduzca un número:'))\n",
        "\n",
        "print(f'\\nTabla del {a}')\n",
        "\n",
        "for i in range(1, 11):\n",
        "    resultado = a * i\n",
        "    print(f'{a} x {i} = {resultado}')"
      ]
    }
  ]
}